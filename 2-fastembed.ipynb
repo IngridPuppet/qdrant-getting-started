{
 "cells": [
  {
   "cell_type": "code",
   "execution_count": 4,
   "id": "3f53da0b-f2d7-443c-9da3-8dcdc1a85b92",
   "metadata": {},
   "outputs": [],
   "source": [
    "from fastembed import TextEmbedding, ImageEmbedding"
   ]
  },
  {
   "cell_type": "code",
   "execution_count": 5,
   "id": "c8553357-8829-4a00-b55b-855b30fbd5ff",
   "metadata": {},
   "outputs": [],
   "source": [
    "documents: list[str] = [\n",
    "    \"This is built to be faster and lighter than other embedding libraries e.g. Transformers, Sentence-Transformers, etc.\",\n",
    "    \"fastembed is supported by and maintained by Qdrant.\",\n",
    "]"
   ]
  },
  {
   "cell_type": "code",
   "execution_count": 6,
   "id": "8659c813-9aac-44af-8ac0-af918cb278a8",
   "metadata": {},
   "outputs": [
    {
     "data": {
      "application/vnd.jupyter.widget-view+json": {
       "model_id": "e7966b619f9349f3a9bf2b9f9f59b74b",
       "version_major": 2,
       "version_minor": 0
      },
      "text/plain": [
       "Fetching 5 files:   0%|          | 0/5 [00:00<?, ?it/s]"
      ]
     },
     "metadata": {},
     "output_type": "display_data"
    },
    {
     "data": {
      "application/vnd.jupyter.widget-view+json": {
       "model_id": "9f8893a07e6e43e8a6cc9f321da65555",
       "version_major": 2,
       "version_minor": 0
      },
      "text/plain": [
       "tokenizer.json: 0.00B [00:00, ?B/s]"
      ]
     },
     "metadata": {},
     "output_type": "display_data"
    },
    {
     "data": {
      "application/vnd.jupyter.widget-view+json": {
       "model_id": "40e2821c09e74057a11c8a94c9e52b5a",
       "version_major": 2,
       "version_minor": 0
      },
      "text/plain": [
       "special_tokens_map.json:   0%|          | 0.00/588 [00:00<?, ?B/s]"
      ]
     },
     "metadata": {},
     "output_type": "display_data"
    },
    {
     "data": {
      "application/vnd.jupyter.widget-view+json": {
       "model_id": "594cf8d345884c7690c9f998be8660c9",
       "version_major": 2,
       "version_minor": 0
      },
      "text/plain": [
       "config.json:   0%|          | 0.00/536 [00:00<?, ?B/s]"
      ]
     },
     "metadata": {},
     "output_type": "display_data"
    },
    {
     "data": {
      "application/vnd.jupyter.widget-view+json": {
       "model_id": "8a55d607b6024c40a85c083de16ca1b1",
       "version_major": 2,
       "version_minor": 0
      },
      "text/plain": [
       "tokenizer_config.json:   0%|          | 0.00/705 [00:00<?, ?B/s]"
      ]
     },
     "metadata": {},
     "output_type": "display_data"
    },
    {
     "data": {
      "application/vnd.jupyter.widget-view+json": {
       "model_id": "8dfe41e6e9a34651bd76e5ab6a779ed1",
       "version_major": 2,
       "version_minor": 0
      },
      "text/plain": [
       "model.onnx:   0%|          | 0.00/254M [00:00<?, ?B/s]"
      ]
     },
     "metadata": {},
     "output_type": "display_data"
    },
    {
     "name": "stdout",
     "output_type": "stream",
     "text": [
      "[array([ 0.01333331,  0.00036816, -0.02625014, -0.0164898 ,  0.00933395,\n",
      "       -0.02334513,  0.04606386, -0.06051349,  0.06670137, -0.04574868],\n",
      "      dtype=float32), array([ 0.02344275, -0.00498529, -0.0080444 ,  0.00361112,  0.01119839,\n",
      "       -0.00369841,  0.02615415, -0.04765464,  0.03212883,  0.0226574 ],\n",
      "      dtype=float32)]\n"
     ]
    }
   ],
   "source": [
    "model = TextEmbedding(model_name=\"Qdrant/clip-ViT-B-32-text\")\n",
    "embeddings = list(model.embed(documents))\n",
    "print([embedding[:10] for embedding in embeddings])"
   ]
  },
  {
   "cell_type": "code",
   "execution_count": 7,
   "id": "e3b8f79c-2e28-42e0-b659-3b6dfb3286ee",
   "metadata": {},
   "outputs": [],
   "source": [
    "images = [\n",
    "    \"./images/curated/artist_image_123.jpg\",\n",
    "    \"./images/curated/astronaut_image_115.jpg\",\n",
    "    \"./images/curated/astronaut_image_14.jpg\",\n",
    "    \"./images/curated/athlete_image_1.jpg\",\n",
    "    \"./images/curated/chef_image_107.jpg\",\n",
    "    \"./images/curated/chef_image_10.jpg\",\n",
    "    \"./images/curated/chef_image_131.jpg\",\n",
    "    \"./images/curated/construction_worker_image_107.jpg\",\n",
    "    \"./images/curated/doctor_image_119.jpg\",\n",
    "    \"./images/curated/doctor_image_126.jpg\",\n",
    "]"
   ]
  },
  {
   "cell_type": "code",
   "execution_count": 8,
   "id": "707131fc-fb94-46fb-ae43-6f1c20091ea2",
   "metadata": {},
   "outputs": [
    {
     "data": {
      "application/vnd.jupyter.widget-view+json": {
       "model_id": "77c08fcc47f14dffb3267a6495792140",
       "version_major": 2,
       "version_minor": 0
      },
      "text/plain": [
       "Fetching 3 files:   0%|          | 0/3 [00:00<?, ?it/s]"
      ]
     },
     "metadata": {},
     "output_type": "display_data"
    },
    {
     "data": {
      "application/vnd.jupyter.widget-view+json": {
       "model_id": "d3a9b8579f254558a9ad39cc69ef4b29",
       "version_major": 2,
       "version_minor": 0
      },
      "text/plain": [
       "config.json:   0%|          | 0.00/482 [00:00<?, ?B/s]"
      ]
     },
     "metadata": {},
     "output_type": "display_data"
    },
    {
     "data": {
      "application/vnd.jupyter.widget-view+json": {
       "model_id": "01162e0d573c440a91a0147065cec322",
       "version_major": 2,
       "version_minor": 0
      },
      "text/plain": [
       "preprocessor_config.json:   0%|          | 0.00/780 [00:00<?, ?B/s]"
      ]
     },
     "metadata": {},
     "output_type": "display_data"
    },
    {
     "data": {
      "application/vnd.jupyter.widget-view+json": {
       "model_id": "f381c8478aa74b3093f4de8b3a949ff6",
       "version_major": 2,
       "version_minor": 0
      },
      "text/plain": [
       "model.onnx:   0%|          | 0.00/352M [00:00<?, ?B/s]"
      ]
     },
     "metadata": {},
     "output_type": "display_data"
    },
    {
     "name": "stdout",
     "output_type": "stream",
     "text": [
      "[array([ 0.02833426, -0.00444234,  0.01619808,  0.00763275,  0.00226833,\n",
      "       -0.0040646 , -0.03023029,  0.05144135,  0.00088044, -0.01495957],\n",
      "      dtype=float32), array([ 0.04684671,  0.01791012, -0.02868185,  0.05212222,  0.00592664,\n",
      "       -0.02503421, -0.03069676, -0.02204015,  0.01952512,  0.00638582],\n",
      "      dtype=float32), array([ 0.04772973, -0.02483657, -0.00619603,  0.00921144,  0.01618194,\n",
      "       -0.02043628, -0.0457467 , -0.02085483,  0.03109341, -0.00069367],\n",
      "      dtype=float32), array([ 0.00023401,  0.03760355, -0.06134568,  0.02337185, -0.0106124 ,\n",
      "        0.00399546, -0.00274422, -0.01661571,  0.00834624,  0.04645782],\n",
      "      dtype=float32), array([-0.01065759, -0.03992588, -0.02124305, -0.03201319, -0.00494067,\n",
      "        0.0470015 , -0.01575923,  0.06043371,  0.02854935,  0.01037512],\n",
      "      dtype=float32), array([ 0.00256051,  0.03191374,  0.00861763,  0.01587823,  0.01462011,\n",
      "        0.01392401, -0.00951723,  0.05812868,  0.02226137,  0.00306932],\n",
      "      dtype=float32), array([ 0.00746999,  0.00568232,  0.05136878,  0.03514866,  0.01011435,\n",
      "       -0.01907381, -0.03016251,  0.02482128,  0.07091519, -0.01542015],\n",
      "      dtype=float32), array([-0.027927  , -0.00504646, -0.02125762, -0.01204259, -0.04603443,\n",
      "       -0.01617072, -0.01257324,  0.05556247,  0.00518756,  0.02133011],\n",
      "      dtype=float32), array([ 0.02286622,  0.03926987, -0.00076353,  0.04065264, -0.03349468,\n",
      "        0.00581932, -0.00374157, -0.0571562 ,  0.02188737,  0.02445814],\n",
      "      dtype=float32), array([ 0.03592512,  0.02182786,  0.00641411,  0.07038052, -0.04406082,\n",
      "       -0.01700082,  0.01425114,  0.035089  ,  0.06102093,  0.00038435],\n",
      "      dtype=float32)]\n"
     ]
    }
   ],
   "source": [
    "model = ImageEmbedding(model_name=\"Qdrant/clip-ViT-B-32-vision\")\n",
    "embeddings = list(model.embed(images))\n",
    "print([embedding[:10] for embedding in embeddings])"
   ]
  },
  {
   "cell_type": "code",
   "execution_count": null,
   "id": "19d40e09-b167-4b76-8320-aa2202cf0edc",
   "metadata": {},
   "outputs": [],
   "source": []
  }
 ],
 "metadata": {
  "kernelspec": {
   "display_name": "Python 3 (ipykernel)",
   "language": "python",
   "name": "python3"
  },
  "language_info": {
   "codemirror_mode": {
    "name": "ipython",
    "version": 3
   },
   "file_extension": ".py",
   "mimetype": "text/x-python",
   "name": "python",
   "nbconvert_exporter": "python",
   "pygments_lexer": "ipython3",
   "version": "3.10.18"
  }
 },
 "nbformat": 4,
 "nbformat_minor": 5
}
