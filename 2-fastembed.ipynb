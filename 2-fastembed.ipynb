{
 "cells": [
  {
   "cell_type": "code",
   "execution_count": 1,
   "id": "3f53da0b-f2d7-443c-9da3-8dcdc1a85b92",
   "metadata": {},
   "outputs": [],
   "source": [
    "from fastembed import TextEmbedding, ImageEmbedding"
   ]
  },
  {
   "cell_type": "code",
   "execution_count": 2,
   "id": "c8553357-8829-4a00-b55b-855b30fbd5ff",
   "metadata": {},
   "outputs": [],
   "source": [
    "documents: list[str] = [\n",
    "    \"This is built to be faster and lighter than other embedding libraries e.g. Transformers, Sentence-Transformers, etc.\",\n",
    "    \"fastembed is supported by and maintained by Qdrant.\",\n",
    "]"
   ]
  },
  {
   "cell_type": "code",
   "execution_count": 3,
   "id": "8659c813-9aac-44af-8ac0-af918cb278a8",
   "metadata": {},
   "outputs": [
    {
     "data": {
      "application/vnd.jupyter.widget-view+json": {
       "model_id": "7692f03406324f09adc01d81ec5808a5",
       "version_major": 2,
       "version_minor": 0
      },
      "text/plain": [
       "Fetching 5 files:   0%|          | 0/5 [00:00<?, ?it/s]"
      ]
     },
     "metadata": {},
     "output_type": "display_data"
    },
    {
     "data": {
      "application/vnd.jupyter.widget-view+json": {
       "model_id": "a80e79b33c50462fbf50e952e081e027",
       "version_major": 2,
       "version_minor": 0
      },
      "text/plain": [
       "config.json:   0%|          | 0.00/536 [00:00<?, ?B/s]"
      ]
     },
     "metadata": {},
     "output_type": "display_data"
    },
    {
     "data": {
      "application/vnd.jupyter.widget-view+json": {
       "model_id": "f55c52a48a2646789f5f1b5a2b33d31b",
       "version_major": 2,
       "version_minor": 0
      },
      "text/plain": [
       "special_tokens_map.json:   0%|          | 0.00/588 [00:00<?, ?B/s]"
      ]
     },
     "metadata": {},
     "output_type": "display_data"
    },
    {
     "data": {
      "application/vnd.jupyter.widget-view+json": {
       "model_id": "f23f2442d65947d99cb59ccc41ebea11",
       "version_major": 2,
       "version_minor": 0
      },
      "text/plain": [
       "tokenizer.json: 0.00B [00:00, ?B/s]"
      ]
     },
     "metadata": {},
     "output_type": "display_data"
    },
    {
     "data": {
      "application/vnd.jupyter.widget-view+json": {
       "model_id": "69df5ca6bd674f6ca6d2c2c09284f237",
       "version_major": 2,
       "version_minor": 0
      },
      "text/plain": [
       "tokenizer_config.json:   0%|          | 0.00/705 [00:00<?, ?B/s]"
      ]
     },
     "metadata": {},
     "output_type": "display_data"
    },
    {
     "data": {
      "application/vnd.jupyter.widget-view+json": {
       "model_id": "eb2cf15794dc432b99916a710beff8f9",
       "version_major": 2,
       "version_minor": 0
      },
      "text/plain": [
       "model.onnx:   0%|          | 0.00/254M [00:00<?, ?B/s]"
      ]
     },
     "metadata": {},
     "output_type": "display_data"
    },
    {
     "name": "stdout",
     "output_type": "stream",
     "text": [
      "[array([ 0.01333333,  0.00036809, -0.02625018, -0.01648985,  0.00933404,\n",
      "       -0.02334512,  0.04606397, -0.06051356,  0.06670137, -0.04574871],\n",
      "      dtype=float32), array([ 0.0234428 , -0.00498538, -0.00804431,  0.00361113,  0.0111984 ,\n",
      "       -0.00369841,  0.02615424, -0.04765468,  0.03212892,  0.02265734],\n",
      "      dtype=float32)]\n"
     ]
    }
   ],
   "source": [
    "model = TextEmbedding(model_name=\"Qdrant/clip-ViT-B-32-text\")\n",
    "embeddings = list(model.embed(documents))\n",
    "print([embedding[:10] for embedding in embeddings])"
   ]
  },
  {
   "cell_type": "code",
   "execution_count": 4,
   "id": "e3b8f79c-2e28-42e0-b659-3b6dfb3286ee",
   "metadata": {},
   "outputs": [],
   "source": [
    "images = [\n",
    "    \"./images/curated/artist_image_123.jpg\",\n",
    "    \"./images/curated/astronaut_image_115.jpg\",\n",
    "    \"./images/curated/astronaut_image_14.jpg\",\n",
    "    \"./images/curated/athlete_image_1.jpg\",\n",
    "    \"./images/curated/chef_image_107.jpg\",\n",
    "    \"./images/curated/chef_image_10.jpg\",\n",
    "    \"./images/curated/chef_image_131.jpg\",\n",
    "    \"./images/curated/construction_worker_image_107.jpg\",\n",
    "    \"./images/curated/doctor_image_119.jpg\",\n",
    "    \"./images/curated/doctor_image_126.jpg\",\n",
    "]"
   ]
  },
  {
   "cell_type": "code",
   "execution_count": 5,
   "id": "707131fc-fb94-46fb-ae43-6f1c20091ea2",
   "metadata": {},
   "outputs": [
    {
     "data": {
      "application/vnd.jupyter.widget-view+json": {
       "model_id": "f67b3665058643eea0ead7b9ce079f48",
       "version_major": 2,
       "version_minor": 0
      },
      "text/plain": [
       "Fetching 3 files:   0%|          | 0/3 [00:00<?, ?it/s]"
      ]
     },
     "metadata": {},
     "output_type": "display_data"
    },
    {
     "data": {
      "application/vnd.jupyter.widget-view+json": {
       "model_id": "e6e72715b48944ceba203c961e920a1f",
       "version_major": 2,
       "version_minor": 0
      },
      "text/plain": [
       "preprocessor_config.json:   0%|          | 0.00/780 [00:00<?, ?B/s]"
      ]
     },
     "metadata": {},
     "output_type": "display_data"
    },
    {
     "data": {
      "application/vnd.jupyter.widget-view+json": {
       "model_id": "f6bd4d9b94614601b6c59d880b62ef3d",
       "version_major": 2,
       "version_minor": 0
      },
      "text/plain": [
       "config.json:   0%|          | 0.00/482 [00:00<?, ?B/s]"
      ]
     },
     "metadata": {},
     "output_type": "display_data"
    },
    {
     "data": {
      "application/vnd.jupyter.widget-view+json": {
       "model_id": "d24a6963e08941909fd3dff91ff9c355",
       "version_major": 2,
       "version_minor": 0
      },
      "text/plain": [
       "model.onnx:   0%|          | 0.00/352M [00:00<?, ?B/s]"
      ]
     },
     "metadata": {},
     "output_type": "display_data"
    },
    {
     "name": "stdout",
     "output_type": "stream",
     "text": [
      "[array([ 0.02833434, -0.00444237,  0.01619809,  0.00763282,  0.00226833,\n",
      "       -0.00406459, -0.03023026,  0.0514413 ,  0.00088045, -0.01495958],\n",
      "      dtype=float32), array([ 0.04684677,  0.01791009, -0.02868185,  0.05212219,  0.00592667,\n",
      "       -0.02503427, -0.03069678, -0.02204027,  0.01952512,  0.00638581],\n",
      "      dtype=float32), array([ 0.04772966, -0.02483652, -0.00619588,  0.00921152,  0.01618195,\n",
      "       -0.02043629, -0.04574678, -0.02085529,  0.0310935 , -0.00069357],\n",
      "      dtype=float32), array([ 0.00023397,  0.03760353, -0.06134558,  0.02337181, -0.01061247,\n",
      "        0.00399547, -0.0027443 , -0.01661609,  0.00834632,  0.04645789],\n",
      "      dtype=float32), array([-0.01065761, -0.0399259 , -0.02124305, -0.0320132 , -0.00494067,\n",
      "        0.04700142, -0.01575929,  0.06043365,  0.02854934,  0.01037514],\n",
      "      dtype=float32), array([ 0.00256055,  0.03191371,  0.00861763,  0.0158783 ,  0.0146201 ,\n",
      "        0.01392392, -0.00951723,  0.05812875,  0.0222615 ,  0.00306936],\n",
      "      dtype=float32), array([ 0.00746996,  0.0056823 ,  0.05136875,  0.0351487 ,  0.01011437,\n",
      "       -0.01907392, -0.03016251,  0.02482118,  0.07091513, -0.01542013],\n",
      "      dtype=float32), array([-0.02792699, -0.00504644, -0.02125761, -0.01204254, -0.04603438,\n",
      "       -0.01617069, -0.01257318,  0.05556254,  0.00518742,  0.02133012],\n",
      "      dtype=float32), array([ 0.02286621,  0.03926983, -0.00076352,  0.04065276, -0.03349461,\n",
      "        0.00581934, -0.00374157, -0.0571568 ,  0.02188756,  0.02445812],\n",
      "      dtype=float32), array([ 0.03592509,  0.02182779,  0.00641408,  0.07038064, -0.04406081,\n",
      "       -0.01700087,  0.01425124,  0.03508897,  0.06102119,  0.00038434],\n",
      "      dtype=float32)]\n"
     ]
    }
   ],
   "source": [
    "model = ImageEmbedding(model_name=\"Qdrant/clip-ViT-B-32-vision\")\n",
    "embeddings = list(model.embed(images))\n",
    "print([embedding[:10] for embedding in embeddings])"
   ]
  },
  {
   "cell_type": "code",
   "execution_count": null,
   "id": "19d40e09-b167-4b76-8320-aa2202cf0edc",
   "metadata": {},
   "outputs": [],
   "source": []
  }
 ],
 "metadata": {
  "kernelspec": {
   "display_name": "Python 3 (ipykernel)",
   "language": "python",
   "name": "python3"
  },
  "language_info": {
   "codemirror_mode": {
    "name": "ipython",
    "version": 3
   },
   "file_extension": ".py",
   "mimetype": "text/x-python",
   "name": "python",
   "nbconvert_exporter": "python",
   "pygments_lexer": "ipython3",
   "version": "3.10.18"
  }
 },
 "nbformat": 4,
 "nbformat_minor": 5
}
