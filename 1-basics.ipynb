{
 "cells": [
  {
   "cell_type": "code",
   "execution_count": 12,
   "id": "b8d97091-8611-4a28-97fe-3942c06c9533",
   "metadata": {},
   "outputs": [],
   "source": [
    "import uuid\n",
    "from qdrant_client import QdrantClient\n",
    "from qdrant_client.models import Distance, VectorParams, PointStruct, Filter, FieldCondition, MatchValue"
   ]
  },
  {
   "cell_type": "code",
   "execution_count": 13,
   "id": "a35e5afb-a6f3-4c0c-b472-50f5e61d7333",
   "metadata": {},
   "outputs": [],
   "source": [
    "client = QdrantClient(url=\"http://localhost:6333\")"
   ]
  },
  {
   "cell_type": "code",
   "execution_count": 14,
   "id": "4afcf408-1c72-47b3-aa80-b31547797c8c",
   "metadata": {},
   "outputs": [
    {
     "data": {
      "text/plain": [
       "'test_collection_2a81a3a1-4e9b-4efc-8852-73a0ce494cd0'"
      ]
     },
     "execution_count": 14,
     "metadata": {},
     "output_type": "execute_result"
    }
   ],
   "source": [
    "collection_name = f\"test_collection_{uuid.uuid4()}\"\n",
    "\n",
    "client.create_collection(\n",
    "    collection_name=collection_name,\n",
    "    vectors_config=VectorParams(size=4, distance=Distance.DOT),\n",
    ")\n",
    "\n",
    "collection_name"
   ]
  },
  {
   "cell_type": "code",
   "execution_count": 15,
   "id": "76a6374a-2340-4fd5-b517-b3845facc981",
   "metadata": {},
   "outputs": [
    {
     "data": {
      "text/plain": [
       "UpdateResult(operation_id=0, status=<UpdateStatus.COMPLETED: 'completed'>)"
      ]
     },
     "execution_count": 15,
     "metadata": {},
     "output_type": "execute_result"
    }
   ],
   "source": [
    "operation_info = client.upsert(\n",
    "    collection_name=collection_name,\n",
    "    wait=True,\n",
    "    points=[\n",
    "        PointStruct(\n",
    "            id=1,\n",
    "            vector=[0.05, 0.61, 0.76, 0.74],\n",
    "            payload={\"city\": \"Berlin\"}\n",
    "        ),\n",
    "        PointStruct(\n",
    "            id=2,\n",
    "            vector=[0.19, 0.81, 0.75, 0.11],\n",
    "            payload={\"city\": \"London\"}\n",
    "        ),\n",
    "        PointStruct(\n",
    "            id=3,\n",
    "            vector=[0.36, 0.55, 0.47, 0.94],\n",
    "            payload={\"city\": \"Moscow\"}\n",
    "        ),\n",
    "        PointStruct(\n",
    "            id=4,\n",
    "            vector=[0.18, 0.01, 0.85, 0.80],\n",
    "            payload={\"city\": \"New York\"}\n",
    "        ),\n",
    "        PointStruct(\n",
    "            id=5,\n",
    "            vector=[0.24, 0.18, 0.22, 0.44],\n",
    "            payload={\"city\": \"Beijing\"}\n",
    "        ),\n",
    "        PointStruct(\n",
    "            id=6,\n",
    "            vector=[0.35, 0.08, 0.11, 0.44],\n",
    "            payload={\"city\": \"Mumbai\"}\n",
    "        ),\n",
    "    ],\n",
    ")\n",
    "\n",
    "operation_info"
   ]
  },
  {
   "cell_type": "code",
   "execution_count": 16,
   "id": "b44f3cbf-f494-43f2-85a7-4ea3018f55dc",
   "metadata": {},
   "outputs": [
    {
     "data": {
      "text/plain": [
       "[ScoredPoint(id=4, version=0, score=1.362, payload=None, vector=None, shard_key=None, order_value=None),\n",
       " ScoredPoint(id=1, version=0, score=1.273, payload=None, vector=None, shard_key=None, order_value=None),\n",
       " ScoredPoint(id=3, version=0, score=1.208, payload=None, vector=None, shard_key=None, order_value=None)]"
      ]
     },
     "execution_count": 16,
     "metadata": {},
     "output_type": "execute_result"
    }
   ],
   "source": [
    "# Let’s ask a basic question - Which of our stored vectors are most similar to the query vector [0.2, 0.1, 0.9, 0.7]?\n",
    "\n",
    "search_result = client.query_points(\n",
    "    collection_name=collection_name,\n",
    "    query=[0.2, 0.1, 0.9, 0.7],\n",
    "    with_payload=False,\n",
    "    limit=3\n",
    ").points\n",
    "\n",
    "search_result"
   ]
  },
  {
   "cell_type": "code",
   "execution_count": 17,
   "id": "ce9e8f70-085e-4576-9a01-8f75b5465026",
   "metadata": {},
   "outputs": [
    {
     "data": {
      "text/plain": [
       "[ScoredPoint(id=4, version=0, score=1.362, payload={'city': 'New York'}, vector=None, shard_key=None, order_value=None),\n",
       " ScoredPoint(id=1, version=0, score=1.273, payload={'city': 'Berlin'}, vector=None, shard_key=None, order_value=None),\n",
       " ScoredPoint(id=3, version=0, score=1.208, payload={'city': 'Moscow'}, vector=None, shard_key=None, order_value=None)]"
      ]
     },
     "execution_count": 17,
     "metadata": {},
     "output_type": "execute_result"
    }
   ],
   "source": [
    "search_result = client.query_points(\n",
    "    collection_name=collection_name,\n",
    "    query=[0.2, 0.1, 0.9, 0.7],\n",
    "    with_payload=True,\n",
    "    limit=3\n",
    ").points\n",
    "\n",
    "search_result"
   ]
  },
  {
   "cell_type": "code",
   "execution_count": 18,
   "id": "bf0926b6-0a12-4495-aaec-438daa60a209",
   "metadata": {},
   "outputs": [
    {
     "name": "stdout",
     "output_type": "stream",
     "text": [
      "[ScoredPoint(id=2, version=0, score=0.871, payload={'city': 'London'}, vector=None, shard_key=None, order_value=None)]\n"
     ]
    }
   ],
   "source": [
    "search_result = client.query_points(\n",
    "    collection_name=collection_name,\n",
    "    query=[0.2, 0.1, 0.9, 0.7],\n",
    "    query_filter=Filter(\n",
    "        must=[FieldCondition(key=\"city\", match=MatchValue(value=\"London\"))]\n",
    "    ),\n",
    "    with_payload=True,\n",
    "    limit=3,\n",
    ").points\n",
    "\n",
    "print(search_result)"
   ]
  },
  {
   "cell_type": "code",
   "execution_count": null,
   "id": "0f6b5cbc-495a-4bf5-a0c5-4683971e7523",
   "metadata": {},
   "outputs": [],
   "source": []
  }
 ],
 "metadata": {
  "kernelspec": {
   "display_name": "Python 3 (ipykernel)",
   "language": "python",
   "name": "python3"
  },
  "language_info": {
   "codemirror_mode": {
    "name": "ipython",
    "version": 3
   },
   "file_extension": ".py",
   "mimetype": "text/x-python",
   "name": "python",
   "nbconvert_exporter": "python",
   "pygments_lexer": "ipython3",
   "version": "3.10.18"
  }
 },
 "nbformat": 4,
 "nbformat_minor": 5
}
